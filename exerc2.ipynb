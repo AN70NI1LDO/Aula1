{
  "nbformat": 4,
  "nbformat_minor": 0,
  "metadata": {
    "colab": {
      "name": "execReg.ipynb",
      "provenance": [],
      "collapsed_sections": [],
      "mount_file_id": "1ihlhtpBBR9vLmp3DS3F3kkBBPlAbNAuh",
      "authorship_tag": "ABX9TyMgQr1tNEMc4Mf2qj0p/48c",
      "include_colab_link": true
    },
    "kernelspec": {
      "name": "python3",
      "display_name": "Python 3"
    },
    "language_info": {
      "name": "python"
    }
  },
  "cells": [
    {
      "cell_type": "markdown",
      "metadata": {
        "id": "view-in-github",
        "colab_type": "text"
      },
      "source": [
        "<a href=\"https://colab.research.google.com/github/AN70NI1LDO/Aula1/blob/main/exerc2.ipynb\" target=\"_parent\"><img src=\"https://colab.research.google.com/assets/colab-badge.svg\" alt=\"Open In Colab\"/></a>"
      ]
    },
    {
      "cell_type": "markdown",
      "source": [
        "2. Importando bibliotecas"
      ],
      "metadata": {
        "id": "pUtH9foRVCJp"
      }
    },
    {
      "cell_type": "code",
      "execution_count": 116,
      "metadata": {
        "id": "Rkzqi1o6i5BA"
      },
      "outputs": [],
      "source": [
        "import numpy as np\n",
        "import pandas as pd\n",
        "from sklearn.linear_model import LinearRegression"
      ]
    },
    {
      "cell_type": "markdown",
      "source": [
        "2.1 Lendo arquivo"
      ],
      "metadata": {
        "id": "kXU4aL2WUfwm"
      }
    },
    {
      "cell_type": "code",
      "source": [
        "adms = pd.read_csv (\"/content/drive/MyDrive/datasetExerc/Admission_Predict_Ver1.1.csv\")\n",
        "adms.info()"
      ],
      "metadata": {
        "id": "RzBmVpvs4yqb"
      },
      "execution_count": null,
      "outputs": []
    },
    {
      "cell_type": "code",
      "source": [
        "adms.columns"
      ],
      "metadata": {
        "id": "ccP30wVS-17z"
      },
      "execution_count": null,
      "outputs": []
    },
    {
      "cell_type": "markdown",
      "source": [
        "2.2 Separando features e targets"
      ],
      "metadata": {
        "id": "GUEWYyybUk-v"
      }
    },
    {
      "cell_type": "code",
      "source": [
        "X = adms [adms.columns [:-1]]\n",
        "X"
      ],
      "metadata": {
        "id": "w2X46JE_-wJB"
      },
      "execution_count": null,
      "outputs": []
    },
    {
      "cell_type": "code",
      "source": [
        "y = adms [adms.columns [-1:]]\n",
        "y"
      ],
      "metadata": {
        "id": "M3Ei3xTGAWQ6"
      },
      "execution_count": null,
      "outputs": []
    },
    {
      "cell_type": "markdown",
      "source": [
        "2.3 Separando modelos treino e teste"
      ],
      "metadata": {
        "id": "43LuJ_jCFfA5"
      }
    },
    {
      "cell_type": "code",
      "source": [
        "from sklearn.model_selection import train_test_split"
      ],
      "metadata": {
        "id": "S28b5KioA_NB"
      },
      "execution_count": 121,
      "outputs": []
    },
    {
      "cell_type": "code",
      "source": [
        "X_train, X_test, y_train, y_test = train_test_split ( X, y, test_size=0.3)\n",
        "X_train"
      ],
      "metadata": {
        "id": "_XrQ5y-cBLzW"
      },
      "execution_count": null,
      "outputs": []
    },
    {
      "cell_type": "markdown",
      "source": [
        "1.1 Modelo recebe funcao"
      ],
      "metadata": {
        "id": "g3A-kgkiP-_8"
      }
    },
    {
      "cell_type": "code",
      "source": [
        "adms_lr = LinearRegression"
      ],
      "metadata": {
        "id": "OAMvJcI4QFZa"
      },
      "execution_count": null,
      "outputs": []
    },
    {
      "cell_type": "markdown",
      "source": [
        "1.2 Ajuste de modelo"
      ],
      "metadata": {
        "id": "BtGs4_2bQK3J"
      }
    },
    {
      "cell_type": "code",
      "source": [
        "adms_lr.fit(X, y)"
      ],
      "metadata": {
        "id": "nlu_54-wQZvf"
      },
      "execution_count": null,
      "outputs": []
    },
    {
      "cell_type": "markdown",
      "source": [
        "1.3 Calcular a predição"
      ],
      "metadata": {
        "id": "sgGSUizAQejL"
      }
    },
    {
      "cell_type": "code",
      "source": [
        "ypred = modelo.predict(X12)"
      ],
      "metadata": {
        "id": "YPATMNUAQj8I"
      },
      "execution_count": null,
      "outputs": []
    },
    {
      "cell_type": "markdown",
      "source": [
        "1.4 Calcular o erro"
      ],
      "metadata": {
        "id": "f9ykMY4DQoJ5"
      }
    },
    {
      "cell_type": "code",
      "source": [
        "print (mean_squared_error (y, ypred))"
      ],
      "metadata": {
        "id": "ieCyJyxUQsGk"
      },
      "execution_count": null,
      "outputs": []
    },
    {
      "cell_type": "markdown",
      "source": [
        "1.5 Ver os parâmetros Bias e Coeficiente"
      ],
      "metadata": {
        "id": "qnfcwblQQ1VD"
      }
    },
    {
      "cell_type": "code",
      "source": [
        "print (modelo.intercept_, modelo.coef_)"
      ],
      "metadata": {
        "id": "fbc4zIVxQ8Y9"
      },
      "execution_count": null,
      "outputs": []
    },
    {
      "cell_type": "markdown",
      "source": [
        "Modelo para todas as características - Multivariado"
      ],
      "metadata": {
        "id": "zgb_dXmRRfv4"
      }
    },
    {
      "cell_type": "code",
      "source": [
        "from sklearn.linear.model import LinearRegression\n",
        "modelo = LinearRegression ()\n",
        "modelo.fit(X, y)\n",
        "ypred = modelo.predict(X)\n",
        "print (mean_squared_error (y, ypred))\n",
        "print (modelo.intercept_, modelo.coef_)"
      ],
      "metadata": {
        "id": "cuoMFkprRmyn"
      },
      "execution_count": null,
      "outputs": []
    }
  ]
}